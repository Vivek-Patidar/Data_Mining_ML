{
  "cells": [
    {
      "cell_type": "markdown",
      "id": "d1e60ffe",
      "metadata": {
        "papermill": {
          "duration": 0.011683,
          "end_time": "2022-07-29T23:21:25.806180",
          "exception": false,
          "start_time": "2022-07-29T23:21:25.794497",
          "status": "completed"
        },
        "tags": [],
        "id": "d1e60ffe"
      },
      "source": [
        "# ****1. We import the necessary libraries required for the implementation****"
      ]
    },
    {
      "cell_type": "code",
      "execution_count": null,
      "id": "78da2e0e",
      "metadata": {
        "execution": {
          "iopub.execute_input": "2022-07-29T23:21:25.835501Z",
          "iopub.status.busy": "2022-07-29T23:21:25.834948Z",
          "iopub.status.idle": "2022-07-29T23:21:25.854430Z",
          "shell.execute_reply": "2022-07-29T23:21:25.853336Z"
        },
        "papermill": {
          "duration": 0.039038,
          "end_time": "2022-07-29T23:21:25.857439",
          "exception": false,
          "start_time": "2022-07-29T23:21:25.818401",
          "status": "completed"
        },
        "tags": [],
        "id": "78da2e0e"
      },
      "outputs": [],
      "source": [
        "import numpy as np\n",
        "import matplotlib.pyplot as plt\n",
        "import pandas as pd"
      ]
    },
    {
      "cell_type": "markdown",
      "id": "91f3159a",
      "metadata": {
        "papermill": {
          "duration": 0.018317,
          "end_time": "2022-07-29T23:21:25.896193",
          "exception": false,
          "start_time": "2022-07-29T23:21:25.877876",
          "status": "completed"
        },
        "tags": [],
        "id": "91f3159a"
      },
      "source": [
        "# ****2. Load the dataset****"
      ]
    },
    {
      "cell_type": "markdown",
      "id": "a4b463c0",
      "metadata": {
        "papermill": {
          "duration": 0.011529,
          "end_time": "2022-07-29T23:21:25.927616",
          "exception": false,
          "start_time": "2022-07-29T23:21:25.916087",
          "status": "completed"
        },
        "tags": [],
        "id": "a4b463c0"
      },
      "source": [
        "****Now we have to proceed by reading the dataset we have, that is in a csv format. We do that using pandas module’s read_csv function [6].****"
      ]
    },
    {
      "cell_type": "code",
      "execution_count": null,
      "id": "c46f6a9d",
      "metadata": {
        "execution": {
          "iopub.execute_input": "2022-07-29T23:21:25.952105Z",
          "iopub.status.busy": "2022-07-29T23:21:25.951256Z",
          "iopub.status.idle": "2022-07-29T23:21:26.787333Z",
          "shell.execute_reply": "2022-07-29T23:21:26.786242Z"
        },
        "papermill": {
          "duration": 0.851122,
          "end_time": "2022-07-29T23:21:26.789974",
          "exception": false,
          "start_time": "2022-07-29T23:21:25.938852",
          "status": "completed"
        },
        "tags": [],
        "id": "c46f6a9d"
      },
      "outputs": [],
      "source": [
        "dataset = pd.read_csv(\"../input/market-basket/Market_Basket_Optimisation.csv\", header = None)\n",
        "transactions = []\n",
        "for i in range(0, 7501):\n",
        "    transactions.append([str(dataset.values[i,j]) for j in range(0,20)])"
      ]
    },
    {
      "cell_type": "code",
      "source": [],
      "metadata": {
        "id": "SDtWWNFb8S4c"
      },
      "id": "SDtWWNFb8S4c",
      "execution_count": null,
      "outputs": []
    },
    {
      "cell_type": "markdown",
      "id": "e0383fd1",
      "metadata": {
        "papermill": {
          "duration": 0.01122,
          "end_time": "2022-07-29T23:21:26.812696",
          "exception": false,
          "start_time": "2022-07-29T23:21:26.801476",
          "status": "completed"
        },
        "tags": [],
        "id": "e0383fd1"
      },
      "source": [
        "# ****3. Take a glance at the records****"
      ]
    },
    {
      "cell_type": "code",
      "execution_count": null,
      "id": "ab710163",
      "metadata": {
        "execution": {
          "iopub.execute_input": "2022-07-29T23:21:26.836189Z",
          "iopub.status.busy": "2022-07-29T23:21:26.835863Z",
          "iopub.status.idle": "2022-07-29T23:21:26.866572Z",
          "shell.execute_reply": "2022-07-29T23:21:26.865711Z"
        },
        "papermill": {
          "duration": 0.045336,
          "end_time": "2022-07-29T23:21:26.869079",
          "exception": false,
          "start_time": "2022-07-29T23:21:26.823743",
          "status": "completed"
        },
        "tags": [],
        "id": "ab710163",
        "outputId": "7180327e-09ed-422b-9747-8e3d722b6cc5"
      },
      "outputs": [
        {
          "data": {
            "text/html": [
              "<div>\n",
              "<style scoped>\n",
              "    .dataframe tbody tr th:only-of-type {\n",
              "        vertical-align: middle;\n",
              "    }\n",
              "\n",
              "    .dataframe tbody tr th {\n",
              "        vertical-align: top;\n",
              "    }\n",
              "\n",
              "    .dataframe thead th {\n",
              "        text-align: right;\n",
              "    }\n",
              "</style>\n",
              "<table border=\"1\" class=\"dataframe\">\n",
              "  <thead>\n",
              "    <tr style=\"text-align: right;\">\n",
              "      <th></th>\n",
              "      <th>0</th>\n",
              "      <th>1</th>\n",
              "      <th>2</th>\n",
              "      <th>3</th>\n",
              "      <th>4</th>\n",
              "      <th>5</th>\n",
              "      <th>6</th>\n",
              "      <th>7</th>\n",
              "      <th>8</th>\n",
              "      <th>9</th>\n",
              "      <th>10</th>\n",
              "      <th>11</th>\n",
              "      <th>12</th>\n",
              "      <th>13</th>\n",
              "      <th>14</th>\n",
              "      <th>15</th>\n",
              "      <th>16</th>\n",
              "      <th>17</th>\n",
              "      <th>18</th>\n",
              "      <th>19</th>\n",
              "    </tr>\n",
              "  </thead>\n",
              "  <tbody>\n",
              "    <tr>\n",
              "      <th>0</th>\n",
              "      <td>shrimp</td>\n",
              "      <td>almonds</td>\n",
              "      <td>avocado</td>\n",
              "      <td>vegetables mix</td>\n",
              "      <td>green grapes</td>\n",
              "      <td>whole weat flour</td>\n",
              "      <td>yams</td>\n",
              "      <td>cottage cheese</td>\n",
              "      <td>energy drink</td>\n",
              "      <td>tomato juice</td>\n",
              "      <td>low fat yogurt</td>\n",
              "      <td>green tea</td>\n",
              "      <td>honey</td>\n",
              "      <td>salad</td>\n",
              "      <td>mineral water</td>\n",
              "      <td>salmon</td>\n",
              "      <td>antioxydant juice</td>\n",
              "      <td>frozen smoothie</td>\n",
              "      <td>spinach</td>\n",
              "      <td>olive oil</td>\n",
              "    </tr>\n",
              "    <tr>\n",
              "      <th>1</th>\n",
              "      <td>burgers</td>\n",
              "      <td>meatballs</td>\n",
              "      <td>eggs</td>\n",
              "      <td>NaN</td>\n",
              "      <td>NaN</td>\n",
              "      <td>NaN</td>\n",
              "      <td>NaN</td>\n",
              "      <td>NaN</td>\n",
              "      <td>NaN</td>\n",
              "      <td>NaN</td>\n",
              "      <td>NaN</td>\n",
              "      <td>NaN</td>\n",
              "      <td>NaN</td>\n",
              "      <td>NaN</td>\n",
              "      <td>NaN</td>\n",
              "      <td>NaN</td>\n",
              "      <td>NaN</td>\n",
              "      <td>NaN</td>\n",
              "      <td>NaN</td>\n",
              "      <td>NaN</td>\n",
              "    </tr>\n",
              "    <tr>\n",
              "      <th>2</th>\n",
              "      <td>chutney</td>\n",
              "      <td>NaN</td>\n",
              "      <td>NaN</td>\n",
              "      <td>NaN</td>\n",
              "      <td>NaN</td>\n",
              "      <td>NaN</td>\n",
              "      <td>NaN</td>\n",
              "      <td>NaN</td>\n",
              "      <td>NaN</td>\n",
              "      <td>NaN</td>\n",
              "      <td>NaN</td>\n",
              "      <td>NaN</td>\n",
              "      <td>NaN</td>\n",
              "      <td>NaN</td>\n",
              "      <td>NaN</td>\n",
              "      <td>NaN</td>\n",
              "      <td>NaN</td>\n",
              "      <td>NaN</td>\n",
              "      <td>NaN</td>\n",
              "      <td>NaN</td>\n",
              "    </tr>\n",
              "    <tr>\n",
              "      <th>3</th>\n",
              "      <td>turkey</td>\n",
              "      <td>avocado</td>\n",
              "      <td>NaN</td>\n",
              "      <td>NaN</td>\n",
              "      <td>NaN</td>\n",
              "      <td>NaN</td>\n",
              "      <td>NaN</td>\n",
              "      <td>NaN</td>\n",
              "      <td>NaN</td>\n",
              "      <td>NaN</td>\n",
              "      <td>NaN</td>\n",
              "      <td>NaN</td>\n",
              "      <td>NaN</td>\n",
              "      <td>NaN</td>\n",
              "      <td>NaN</td>\n",
              "      <td>NaN</td>\n",
              "      <td>NaN</td>\n",
              "      <td>NaN</td>\n",
              "      <td>NaN</td>\n",
              "      <td>NaN</td>\n",
              "    </tr>\n",
              "    <tr>\n",
              "      <th>4</th>\n",
              "      <td>mineral water</td>\n",
              "      <td>milk</td>\n",
              "      <td>energy bar</td>\n",
              "      <td>whole wheat rice</td>\n",
              "      <td>green tea</td>\n",
              "      <td>NaN</td>\n",
              "      <td>NaN</td>\n",
              "      <td>NaN</td>\n",
              "      <td>NaN</td>\n",
              "      <td>NaN</td>\n",
              "      <td>NaN</td>\n",
              "      <td>NaN</td>\n",
              "      <td>NaN</td>\n",
              "      <td>NaN</td>\n",
              "      <td>NaN</td>\n",
              "      <td>NaN</td>\n",
              "      <td>NaN</td>\n",
              "      <td>NaN</td>\n",
              "      <td>NaN</td>\n",
              "      <td>NaN</td>\n",
              "    </tr>\n",
              "    <tr>\n",
              "      <th>...</th>\n",
              "      <td>...</td>\n",
              "      <td>...</td>\n",
              "      <td>...</td>\n",
              "      <td>...</td>\n",
              "      <td>...</td>\n",
              "      <td>...</td>\n",
              "      <td>...</td>\n",
              "      <td>...</td>\n",
              "      <td>...</td>\n",
              "      <td>...</td>\n",
              "      <td>...</td>\n",
              "      <td>...</td>\n",
              "      <td>...</td>\n",
              "      <td>...</td>\n",
              "      <td>...</td>\n",
              "      <td>...</td>\n",
              "      <td>...</td>\n",
              "      <td>...</td>\n",
              "      <td>...</td>\n",
              "      <td>...</td>\n",
              "    </tr>\n",
              "    <tr>\n",
              "      <th>7496</th>\n",
              "      <td>butter</td>\n",
              "      <td>light mayo</td>\n",
              "      <td>fresh bread</td>\n",
              "      <td>NaN</td>\n",
              "      <td>NaN</td>\n",
              "      <td>NaN</td>\n",
              "      <td>NaN</td>\n",
              "      <td>NaN</td>\n",
              "      <td>NaN</td>\n",
              "      <td>NaN</td>\n",
              "      <td>NaN</td>\n",
              "      <td>NaN</td>\n",
              "      <td>NaN</td>\n",
              "      <td>NaN</td>\n",
              "      <td>NaN</td>\n",
              "      <td>NaN</td>\n",
              "      <td>NaN</td>\n",
              "      <td>NaN</td>\n",
              "      <td>NaN</td>\n",
              "      <td>NaN</td>\n",
              "    </tr>\n",
              "    <tr>\n",
              "      <th>7497</th>\n",
              "      <td>burgers</td>\n",
              "      <td>frozen vegetables</td>\n",
              "      <td>eggs</td>\n",
              "      <td>french fries</td>\n",
              "      <td>magazines</td>\n",
              "      <td>green tea</td>\n",
              "      <td>NaN</td>\n",
              "      <td>NaN</td>\n",
              "      <td>NaN</td>\n",
              "      <td>NaN</td>\n",
              "      <td>NaN</td>\n",
              "      <td>NaN</td>\n",
              "      <td>NaN</td>\n",
              "      <td>NaN</td>\n",
              "      <td>NaN</td>\n",
              "      <td>NaN</td>\n",
              "      <td>NaN</td>\n",
              "      <td>NaN</td>\n",
              "      <td>NaN</td>\n",
              "      <td>NaN</td>\n",
              "    </tr>\n",
              "    <tr>\n",
              "      <th>7498</th>\n",
              "      <td>chicken</td>\n",
              "      <td>NaN</td>\n",
              "      <td>NaN</td>\n",
              "      <td>NaN</td>\n",
              "      <td>NaN</td>\n",
              "      <td>NaN</td>\n",
              "      <td>NaN</td>\n",
              "      <td>NaN</td>\n",
              "      <td>NaN</td>\n",
              "      <td>NaN</td>\n",
              "      <td>NaN</td>\n",
              "      <td>NaN</td>\n",
              "      <td>NaN</td>\n",
              "      <td>NaN</td>\n",
              "      <td>NaN</td>\n",
              "      <td>NaN</td>\n",
              "      <td>NaN</td>\n",
              "      <td>NaN</td>\n",
              "      <td>NaN</td>\n",
              "      <td>NaN</td>\n",
              "    </tr>\n",
              "    <tr>\n",
              "      <th>7499</th>\n",
              "      <td>escalope</td>\n",
              "      <td>green tea</td>\n",
              "      <td>NaN</td>\n",
              "      <td>NaN</td>\n",
              "      <td>NaN</td>\n",
              "      <td>NaN</td>\n",
              "      <td>NaN</td>\n",
              "      <td>NaN</td>\n",
              "      <td>NaN</td>\n",
              "      <td>NaN</td>\n",
              "      <td>NaN</td>\n",
              "      <td>NaN</td>\n",
              "      <td>NaN</td>\n",
              "      <td>NaN</td>\n",
              "      <td>NaN</td>\n",
              "      <td>NaN</td>\n",
              "      <td>NaN</td>\n",
              "      <td>NaN</td>\n",
              "      <td>NaN</td>\n",
              "      <td>NaN</td>\n",
              "    </tr>\n",
              "    <tr>\n",
              "      <th>7500</th>\n",
              "      <td>eggs</td>\n",
              "      <td>frozen smoothie</td>\n",
              "      <td>yogurt cake</td>\n",
              "      <td>low fat yogurt</td>\n",
              "      <td>NaN</td>\n",
              "      <td>NaN</td>\n",
              "      <td>NaN</td>\n",
              "      <td>NaN</td>\n",
              "      <td>NaN</td>\n",
              "      <td>NaN</td>\n",
              "      <td>NaN</td>\n",
              "      <td>NaN</td>\n",
              "      <td>NaN</td>\n",
              "      <td>NaN</td>\n",
              "      <td>NaN</td>\n",
              "      <td>NaN</td>\n",
              "      <td>NaN</td>\n",
              "      <td>NaN</td>\n",
              "      <td>NaN</td>\n",
              "      <td>NaN</td>\n",
              "    </tr>\n",
              "  </tbody>\n",
              "</table>\n",
              "<p>7501 rows × 20 columns</p>\n",
              "</div>"
            ],
            "text/plain": [
              "                 0                  1            2                 3   \\\n",
              "0            shrimp            almonds      avocado    vegetables mix   \n",
              "1           burgers          meatballs         eggs               NaN   \n",
              "2           chutney                NaN          NaN               NaN   \n",
              "3            turkey            avocado          NaN               NaN   \n",
              "4     mineral water               milk   energy bar  whole wheat rice   \n",
              "...             ...                ...          ...               ...   \n",
              "7496         butter         light mayo  fresh bread               NaN   \n",
              "7497        burgers  frozen vegetables         eggs      french fries   \n",
              "7498        chicken                NaN          NaN               NaN   \n",
              "7499       escalope          green tea          NaN               NaN   \n",
              "7500           eggs    frozen smoothie  yogurt cake    low fat yogurt   \n",
              "\n",
              "                4                 5     6               7             8   \\\n",
              "0     green grapes  whole weat flour  yams  cottage cheese  energy drink   \n",
              "1              NaN               NaN   NaN             NaN           NaN   \n",
              "2              NaN               NaN   NaN             NaN           NaN   \n",
              "3              NaN               NaN   NaN             NaN           NaN   \n",
              "4        green tea               NaN   NaN             NaN           NaN   \n",
              "...            ...               ...   ...             ...           ...   \n",
              "7496           NaN               NaN   NaN             NaN           NaN   \n",
              "7497     magazines         green tea   NaN             NaN           NaN   \n",
              "7498           NaN               NaN   NaN             NaN           NaN   \n",
              "7499           NaN               NaN   NaN             NaN           NaN   \n",
              "7500           NaN               NaN   NaN             NaN           NaN   \n",
              "\n",
              "                9               10         11     12     13             14  \\\n",
              "0     tomato juice  low fat yogurt  green tea  honey  salad  mineral water   \n",
              "1              NaN             NaN        NaN    NaN    NaN            NaN   \n",
              "2              NaN             NaN        NaN    NaN    NaN            NaN   \n",
              "3              NaN             NaN        NaN    NaN    NaN            NaN   \n",
              "4              NaN             NaN        NaN    NaN    NaN            NaN   \n",
              "...            ...             ...        ...    ...    ...            ...   \n",
              "7496           NaN             NaN        NaN    NaN    NaN            NaN   \n",
              "7497           NaN             NaN        NaN    NaN    NaN            NaN   \n",
              "7498           NaN             NaN        NaN    NaN    NaN            NaN   \n",
              "7499           NaN             NaN        NaN    NaN    NaN            NaN   \n",
              "7500           NaN             NaN        NaN    NaN    NaN            NaN   \n",
              "\n",
              "          15                 16               17       18         19  \n",
              "0     salmon  antioxydant juice  frozen smoothie  spinach  olive oil  \n",
              "1        NaN                NaN              NaN      NaN        NaN  \n",
              "2        NaN                NaN              NaN      NaN        NaN  \n",
              "3        NaN                NaN              NaN      NaN        NaN  \n",
              "4        NaN                NaN              NaN      NaN        NaN  \n",
              "...      ...                ...              ...      ...        ...  \n",
              "7496     NaN                NaN              NaN      NaN        NaN  \n",
              "7497     NaN                NaN              NaN      NaN        NaN  \n",
              "7498     NaN                NaN              NaN      NaN        NaN  \n",
              "7499     NaN                NaN              NaN      NaN        NaN  \n",
              "7500     NaN                NaN              NaN      NaN        NaN  \n",
              "\n",
              "[7501 rows x 20 columns]"
            ]
          },
          "execution_count": 3,
          "metadata": {},
          "output_type": "execute_result"
        }
      ],
      "source": [
        "dataset"
      ]
    },
    {
      "cell_type": "markdown",
      "id": "8b8b7089",
      "metadata": {
        "papermill": {
          "duration": 0.012242,
          "end_time": "2022-07-29T23:21:26.893044",
          "exception": false,
          "start_time": "2022-07-29T23:21:26.880802",
          "status": "completed"
        },
        "tags": [],
        "id": "8b8b7089"
      },
      "source": [
        "# ****4. Look at the shape****"
      ]
    },
    {
      "cell_type": "code",
      "execution_count": null,
      "id": "a192ca73",
      "metadata": {
        "execution": {
          "iopub.execute_input": "2022-07-29T23:21:26.917615Z",
          "iopub.status.busy": "2022-07-29T23:21:26.917353Z",
          "iopub.status.idle": "2022-07-29T23:21:26.922963Z",
          "shell.execute_reply": "2022-07-29T23:21:26.922084Z"
        },
        "papermill": {
          "duration": 0.020308,
          "end_time": "2022-07-29T23:21:26.924888",
          "exception": false,
          "start_time": "2022-07-29T23:21:26.904580",
          "status": "completed"
        },
        "tags": [],
        "id": "a192ca73",
        "outputId": "da542d06-62e2-4784-ce44-bbcefa86488c"
      },
      "outputs": [
        {
          "data": {
            "text/plain": [
              "(7501, 20)"
            ]
          },
          "execution_count": 4,
          "metadata": {},
          "output_type": "execute_result"
        }
      ],
      "source": [
        "dataset.shape"
      ]
    },
    {
      "cell_type": "markdown",
      "id": "0d3e7561",
      "metadata": {
        "papermill": {
          "duration": 0.011536,
          "end_time": "2022-07-29T23:21:26.948622",
          "exception": false,
          "start_time": "2022-07-29T23:21:26.937086",
          "status": "completed"
        },
        "tags": [],
        "id": "0d3e7561"
      },
      "source": [
        "# ****5. Convert Pandas DataFrame into a list of lists****"
      ]
    },
    {
      "cell_type": "code",
      "execution_count": null,
      "id": "8459b754",
      "metadata": {
        "execution": {
          "iopub.execute_input": "2022-07-29T23:21:26.975173Z",
          "iopub.status.busy": "2022-07-29T23:21:26.973609Z",
          "iopub.status.idle": "2022-07-29T23:21:28.011855Z",
          "shell.execute_reply": "2022-07-29T23:21:28.010881Z"
        },
        "papermill": {
          "duration": 1.053977,
          "end_time": "2022-07-29T23:21:28.014259",
          "exception": false,
          "start_time": "2022-07-29T23:21:26.960282",
          "status": "completed"
        },
        "tags": [],
        "id": "8459b754"
      },
      "outputs": [],
      "source": [
        "for i in range(0, 7501):\n",
        "    transactions.append([str(dataset.values[i,j]) for j in range(0,20)])"
      ]
    },
    {
      "cell_type": "code",
      "execution_count": null,
      "id": "af79d11b",
      "metadata": {
        "execution": {
          "iopub.execute_input": "2022-07-29T23:21:41.428466Z",
          "iopub.status.busy": "2022-07-29T23:21:41.427490Z",
          "iopub.status.idle": "2022-07-29T23:21:41.436399Z",
          "shell.execute_reply": "2022-07-29T23:21:41.435500Z"
        },
        "papermill": {
          "duration": 0.024317,
          "end_time": "2022-07-29T23:21:41.438289",
          "exception": false,
          "start_time": "2022-07-29T23:21:41.413972",
          "status": "completed"
        },
        "tags": [],
        "id": "af79d11b"
      },
      "outputs": [],
      "source": [
        "from apyori import apriori\n",
        "rules = apriori(transactions = transactions, min_support = 0.003, min_cinfidence = 0.2, min_lift = 3, min_length = 2, max_length = 2)"
      ]
    },
    {
      "cell_type": "markdown",
      "id": "2d60cbea",
      "metadata": {
        "papermill": {
          "duration": 0.012273,
          "end_time": "2022-07-29T23:21:41.463365",
          "exception": false,
          "start_time": "2022-07-29T23:21:41.451092",
          "status": "completed"
        },
        "tags": [],
        "id": "2d60cbea"
      },
      "source": [
        "# ****6. Print out the number of rules as list****"
      ]
    },
    {
      "cell_type": "code",
      "execution_count": null,
      "id": "978901b9",
      "metadata": {
        "execution": {
          "iopub.execute_input": "2022-07-29T23:21:41.490090Z",
          "iopub.status.busy": "2022-07-29T23:21:41.489277Z",
          "iopub.status.idle": "2022-07-29T23:21:41.694285Z",
          "shell.execute_reply": "2022-07-29T23:21:41.693319Z"
        },
        "papermill": {
          "duration": 0.220697,
          "end_time": "2022-07-29T23:21:41.696663",
          "exception": false,
          "start_time": "2022-07-29T23:21:41.475966",
          "status": "completed"
        },
        "tags": [],
        "id": "978901b9"
      },
      "outputs": [],
      "source": [
        "results = list(rules)"
      ]
    },
    {
      "cell_type": "markdown",
      "id": "49fc30bc",
      "metadata": {
        "papermill": {
          "duration": 0.012243,
          "end_time": "2022-07-29T23:21:41.805510",
          "exception": false,
          "start_time": "2022-07-29T23:21:41.793267",
          "status": "completed"
        },
        "tags": [],
        "id": "49fc30bc"
      },
      "source": [
        "# ****7. Visualizing the results****\n",
        "\n",
        "****In the LHS variable, we store the first item from all the results, from which we obtain the second item that is bought after that item is already bought, which is now stored in the RHS variable.\n",
        "The supports, confidences and lifts store all the support, confidence and lift values from the results [6].****"
      ]
    },
    {
      "cell_type": "code",
      "execution_count": null,
      "id": "3a094b6d",
      "metadata": {
        "execution": {
          "iopub.execute_input": "2022-07-29T23:21:41.831894Z",
          "iopub.status.busy": "2022-07-29T23:21:41.831597Z",
          "iopub.status.idle": "2022-07-29T23:21:41.839985Z",
          "shell.execute_reply": "2022-07-29T23:21:41.839092Z"
        },
        "papermill": {
          "duration": 0.023819,
          "end_time": "2022-07-29T23:21:41.841786",
          "exception": false,
          "start_time": "2022-07-29T23:21:41.817967",
          "status": "completed"
        },
        "tags": [],
        "id": "3a094b6d"
      },
      "outputs": [],
      "source": [
        "def inspect(results):\n",
        "    lhs         =[tuple(result[2][0][0])[0] for result in results]\n",
        "    rhs         =[tuple(result[2][0][1])[0] for result in results]\n",
        "    supports    =[result[1] for result in results]\n",
        "    confidences =[result[2][0][2] for result in results]\n",
        "    lifts        =[result[2][0][3] for result in results]\n",
        "    return list (zip(lhs, rhs, supports, confidences, lifts))\n",
        "resultsinDataFrame = pd.DataFrame(inspect(results), columns = [\"Left hand side\", \"Right hand side\", \"Support\", \"Confidence\", \"Lift\"])"
      ]
    },
    {
      "cell_type": "markdown",
      "id": "7e8eecdf",
      "metadata": {
        "papermill": {
          "duration": 0.012286,
          "end_time": "2022-07-29T23:21:41.866936",
          "exception": false,
          "start_time": "2022-07-29T23:21:41.854650",
          "status": "completed"
        },
        "tags": [],
        "id": "7e8eecdf"
      },
      "source": [
        "****Finally, we store these variables into one dataframe, so that they are easier to visualize.****"
      ]
    },
    {
      "cell_type": "code",
      "execution_count": null,
      "id": "c038cdae",
      "metadata": {
        "execution": {
          "iopub.execute_input": "2022-07-29T23:21:41.894182Z",
          "iopub.status.busy": "2022-07-29T23:21:41.893565Z",
          "iopub.status.idle": "2022-07-29T23:21:41.907563Z",
          "shell.execute_reply": "2022-07-29T23:21:41.906412Z"
        },
        "papermill": {
          "duration": 0.029952,
          "end_time": "2022-07-29T23:21:41.909551",
          "exception": false,
          "start_time": "2022-07-29T23:21:41.879599",
          "status": "completed"
        },
        "tags": [],
        "id": "c038cdae",
        "outputId": "9b41cffa-d529-45a3-fa03-c4e913f89667"
      },
      "outputs": [
        {
          "data": {
            "text/html": [
              "<div>\n",
              "<style scoped>\n",
              "    .dataframe tbody tr th:only-of-type {\n",
              "        vertical-align: middle;\n",
              "    }\n",
              "\n",
              "    .dataframe tbody tr th {\n",
              "        vertical-align: top;\n",
              "    }\n",
              "\n",
              "    .dataframe thead th {\n",
              "        text-align: right;\n",
              "    }\n",
              "</style>\n",
              "<table border=\"1\" class=\"dataframe\">\n",
              "  <thead>\n",
              "    <tr style=\"text-align: right;\">\n",
              "      <th></th>\n",
              "      <th>Left hand side</th>\n",
              "      <th>Right hand side</th>\n",
              "      <th>Support</th>\n",
              "      <th>Confidence</th>\n",
              "      <th>Lift</th>\n",
              "    </tr>\n",
              "  </thead>\n",
              "  <tbody>\n",
              "    <tr>\n",
              "      <th>0</th>\n",
              "      <td>brownies</td>\n",
              "      <td>cottage cheese</td>\n",
              "      <td>0.003466</td>\n",
              "      <td>0.102767</td>\n",
              "      <td>3.225330</td>\n",
              "    </tr>\n",
              "    <tr>\n",
              "      <th>1</th>\n",
              "      <td>chicken</td>\n",
              "      <td>light cream</td>\n",
              "      <td>0.004533</td>\n",
              "      <td>0.075556</td>\n",
              "      <td>4.843951</td>\n",
              "    </tr>\n",
              "    <tr>\n",
              "      <th>2</th>\n",
              "      <td>escalope</td>\n",
              "      <td>mushroom cream sauce</td>\n",
              "      <td>0.005733</td>\n",
              "      <td>0.072269</td>\n",
              "      <td>3.790833</td>\n",
              "    </tr>\n",
              "    <tr>\n",
              "      <th>3</th>\n",
              "      <td>escalope</td>\n",
              "      <td>pasta</td>\n",
              "      <td>0.005866</td>\n",
              "      <td>0.073950</td>\n",
              "      <td>4.700812</td>\n",
              "    </tr>\n",
              "    <tr>\n",
              "      <th>4</th>\n",
              "      <td>fresh bread</td>\n",
              "      <td>tomato juice</td>\n",
              "      <td>0.004266</td>\n",
              "      <td>0.099071</td>\n",
              "      <td>3.259356</td>\n",
              "    </tr>\n",
              "    <tr>\n",
              "      <th>5</th>\n",
              "      <td>fresh tuna</td>\n",
              "      <td>honey</td>\n",
              "      <td>0.003999</td>\n",
              "      <td>0.179641</td>\n",
              "      <td>3.785070</td>\n",
              "    </tr>\n",
              "    <tr>\n",
              "      <th>6</th>\n",
              "      <td>fromage blanc</td>\n",
              "      <td>honey</td>\n",
              "      <td>0.003333</td>\n",
              "      <td>0.245098</td>\n",
              "      <td>5.164271</td>\n",
              "    </tr>\n",
              "    <tr>\n",
              "      <th>7</th>\n",
              "      <td>ground beef</td>\n",
              "      <td>herb &amp; pepper</td>\n",
              "      <td>0.015998</td>\n",
              "      <td>0.162822</td>\n",
              "      <td>3.291994</td>\n",
              "    </tr>\n",
              "    <tr>\n",
              "      <th>8</th>\n",
              "      <td>ground beef</td>\n",
              "      <td>tomato sauce</td>\n",
              "      <td>0.005333</td>\n",
              "      <td>0.054274</td>\n",
              "      <td>3.840659</td>\n",
              "    </tr>\n",
              "    <tr>\n",
              "      <th>9</th>\n",
              "      <td>light cream</td>\n",
              "      <td>olive oil</td>\n",
              "      <td>0.003200</td>\n",
              "      <td>0.205128</td>\n",
              "      <td>3.114710</td>\n",
              "    </tr>\n",
              "    <tr>\n",
              "      <th>10</th>\n",
              "      <td>olive oil</td>\n",
              "      <td>whole wheat pasta</td>\n",
              "      <td>0.007999</td>\n",
              "      <td>0.121457</td>\n",
              "      <td>4.122410</td>\n",
              "    </tr>\n",
              "    <tr>\n",
              "      <th>11</th>\n",
              "      <td>pasta</td>\n",
              "      <td>shrimp</td>\n",
              "      <td>0.005066</td>\n",
              "      <td>0.322034</td>\n",
              "      <td>4.506672</td>\n",
              "    </tr>\n",
              "  </tbody>\n",
              "</table>\n",
              "</div>"
            ],
            "text/plain": [
              "   Left hand side       Right hand side   Support  Confidence      Lift\n",
              "0        brownies        cottage cheese  0.003466    0.102767  3.225330\n",
              "1         chicken           light cream  0.004533    0.075556  4.843951\n",
              "2        escalope  mushroom cream sauce  0.005733    0.072269  3.790833\n",
              "3        escalope                 pasta  0.005866    0.073950  4.700812\n",
              "4     fresh bread          tomato juice  0.004266    0.099071  3.259356\n",
              "5      fresh tuna                 honey  0.003999    0.179641  3.785070\n",
              "6   fromage blanc                 honey  0.003333    0.245098  5.164271\n",
              "7     ground beef         herb & pepper  0.015998    0.162822  3.291994\n",
              "8     ground beef          tomato sauce  0.005333    0.054274  3.840659\n",
              "9     light cream             olive oil  0.003200    0.205128  3.114710\n",
              "10      olive oil     whole wheat pasta  0.007999    0.121457  4.122410\n",
              "11          pasta                shrimp  0.005066    0.322034  4.506672"
            ]
          },
          "execution_count": 11,
          "metadata": {},
          "output_type": "execute_result"
        }
      ],
      "source": [
        "resultsinDataFrame"
      ]
    },
    {
      "cell_type": "markdown",
      "id": "0dcf681b",
      "metadata": {
        "papermill": {
          "duration": 0.012556,
          "end_time": "2022-07-29T23:21:41.935459",
          "exception": false,
          "start_time": "2022-07-29T23:21:41.922903",
          "status": "completed"
        },
        "tags": [],
        "id": "0dcf681b"
      },
      "source": [
        "# ****Now, we sort these final outputs in the descending order of lifts.****"
      ]
    },
    {
      "cell_type": "code",
      "execution_count": null,
      "id": "b7b081a5",
      "metadata": {
        "execution": {
          "iopub.execute_input": "2022-07-29T23:21:41.963213Z",
          "iopub.status.busy": "2022-07-29T23:21:41.962429Z",
          "iopub.status.idle": "2022-07-29T23:21:41.984058Z",
          "shell.execute_reply": "2022-07-29T23:21:41.983092Z"
        },
        "papermill": {
          "duration": 0.037417,
          "end_time": "2022-07-29T23:21:41.986216",
          "exception": false,
          "start_time": "2022-07-29T23:21:41.948799",
          "status": "completed"
        },
        "tags": [],
        "id": "b7b081a5",
        "outputId": "03ba98e3-e1a4-423e-d961-2246049adf72"
      },
      "outputs": [
        {
          "data": {
            "text/html": [
              "<div>\n",
              "<style scoped>\n",
              "    .dataframe tbody tr th:only-of-type {\n",
              "        vertical-align: middle;\n",
              "    }\n",
              "\n",
              "    .dataframe tbody tr th {\n",
              "        vertical-align: top;\n",
              "    }\n",
              "\n",
              "    .dataframe thead th {\n",
              "        text-align: right;\n",
              "    }\n",
              "</style>\n",
              "<table border=\"1\" class=\"dataframe\">\n",
              "  <thead>\n",
              "    <tr style=\"text-align: right;\">\n",
              "      <th></th>\n",
              "      <th>Left hand side</th>\n",
              "      <th>Right hand side</th>\n",
              "      <th>Support</th>\n",
              "      <th>Confidence</th>\n",
              "      <th>Lift</th>\n",
              "    </tr>\n",
              "  </thead>\n",
              "  <tbody>\n",
              "    <tr>\n",
              "      <th>6</th>\n",
              "      <td>fromage blanc</td>\n",
              "      <td>honey</td>\n",
              "      <td>0.003333</td>\n",
              "      <td>0.245098</td>\n",
              "      <td>5.164271</td>\n",
              "    </tr>\n",
              "    <tr>\n",
              "      <th>1</th>\n",
              "      <td>chicken</td>\n",
              "      <td>light cream</td>\n",
              "      <td>0.004533</td>\n",
              "      <td>0.075556</td>\n",
              "      <td>4.843951</td>\n",
              "    </tr>\n",
              "    <tr>\n",
              "      <th>3</th>\n",
              "      <td>escalope</td>\n",
              "      <td>pasta</td>\n",
              "      <td>0.005866</td>\n",
              "      <td>0.073950</td>\n",
              "      <td>4.700812</td>\n",
              "    </tr>\n",
              "    <tr>\n",
              "      <th>11</th>\n",
              "      <td>pasta</td>\n",
              "      <td>shrimp</td>\n",
              "      <td>0.005066</td>\n",
              "      <td>0.322034</td>\n",
              "      <td>4.506672</td>\n",
              "    </tr>\n",
              "    <tr>\n",
              "      <th>10</th>\n",
              "      <td>olive oil</td>\n",
              "      <td>whole wheat pasta</td>\n",
              "      <td>0.007999</td>\n",
              "      <td>0.121457</td>\n",
              "      <td>4.122410</td>\n",
              "    </tr>\n",
              "    <tr>\n",
              "      <th>8</th>\n",
              "      <td>ground beef</td>\n",
              "      <td>tomato sauce</td>\n",
              "      <td>0.005333</td>\n",
              "      <td>0.054274</td>\n",
              "      <td>3.840659</td>\n",
              "    </tr>\n",
              "    <tr>\n",
              "      <th>2</th>\n",
              "      <td>escalope</td>\n",
              "      <td>mushroom cream sauce</td>\n",
              "      <td>0.005733</td>\n",
              "      <td>0.072269</td>\n",
              "      <td>3.790833</td>\n",
              "    </tr>\n",
              "    <tr>\n",
              "      <th>5</th>\n",
              "      <td>fresh tuna</td>\n",
              "      <td>honey</td>\n",
              "      <td>0.003999</td>\n",
              "      <td>0.179641</td>\n",
              "      <td>3.785070</td>\n",
              "    </tr>\n",
              "    <tr>\n",
              "      <th>7</th>\n",
              "      <td>ground beef</td>\n",
              "      <td>herb &amp; pepper</td>\n",
              "      <td>0.015998</td>\n",
              "      <td>0.162822</td>\n",
              "      <td>3.291994</td>\n",
              "    </tr>\n",
              "    <tr>\n",
              "      <th>4</th>\n",
              "      <td>fresh bread</td>\n",
              "      <td>tomato juice</td>\n",
              "      <td>0.004266</td>\n",
              "      <td>0.099071</td>\n",
              "      <td>3.259356</td>\n",
              "    </tr>\n",
              "  </tbody>\n",
              "</table>\n",
              "</div>"
            ],
            "text/plain": [
              "   Left hand side       Right hand side   Support  Confidence      Lift\n",
              "6   fromage blanc                 honey  0.003333    0.245098  5.164271\n",
              "1         chicken           light cream  0.004533    0.075556  4.843951\n",
              "3        escalope                 pasta  0.005866    0.073950  4.700812\n",
              "11          pasta                shrimp  0.005066    0.322034  4.506672\n",
              "10      olive oil     whole wheat pasta  0.007999    0.121457  4.122410\n",
              "8     ground beef          tomato sauce  0.005333    0.054274  3.840659\n",
              "2        escalope  mushroom cream sauce  0.005733    0.072269  3.790833\n",
              "5      fresh tuna                 honey  0.003999    0.179641  3.785070\n",
              "7     ground beef         herb & pepper  0.015998    0.162822  3.291994\n",
              "4     fresh bread          tomato juice  0.004266    0.099071  3.259356"
            ]
          },
          "execution_count": 12,
          "metadata": {},
          "output_type": "execute_result"
        }
      ],
      "source": [
        "resultsinDataFrame.nlargest(n = 10, columns = \"Lift\")"
      ]
    },
    {
      "cell_type": "markdown",
      "id": "9283ebdd",
      "metadata": {
        "papermill": {
          "duration": 0.013048,
          "end_time": "2022-07-29T23:21:42.012325",
          "exception": false,
          "start_time": "2022-07-29T23:21:41.999277",
          "status": "completed"
        },
        "tags": [],
        "id": "9283ebdd"
      },
      "source": [
        "****This is the final result of our apriori implementation in python. The SuperMarket will use this data to boost their sales and prioritize giving offers on the pair of items with greater Lift values [6].****"
      ]
    }
  ],
  "metadata": {
    "kernelspec": {
      "display_name": "Python 3",
      "language": "python",
      "name": "python3"
    },
    "language_info": {
      "codemirror_mode": {
        "name": "ipython",
        "version": 3
      },
      "file_extension": ".py",
      "mimetype": "text/x-python",
      "name": "python",
      "nbconvert_exporter": "python",
      "pygments_lexer": "ipython3",
      "version": "3.7.12"
    },
    "papermill": {
      "default_parameters": {},
      "duration": 25.681495,
      "end_time": "2022-07-29T23:21:42.727846",
      "environment_variables": {},
      "exception": null,
      "input_path": "__notebook__.ipynb",
      "output_path": "__notebook__.ipynb",
      "parameters": {},
      "start_time": "2022-07-29T23:21:17.046351",
      "version": "2.3.4"
    },
    "colab": {
      "provenance": []
    }
  },
  "nbformat": 4,
  "nbformat_minor": 5
}